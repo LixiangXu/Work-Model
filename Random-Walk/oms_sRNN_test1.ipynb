{
 "cells": [
  {
   "cell_type": "code",
   "execution_count": 1,
   "metadata": {
    "collapsed": true
   },
   "outputs": [],
   "source": [
    "import numpy as np\n",
    "from matplotlib import pylab as plt\n",
    "import random\n",
    "import time\n",
    "import tensorflow as tf\n",
    "from tqdm import tqdm_notebook as tqdm\n",
    "from IPython import display"
   ]
  },
  {
   "cell_type": "code",
   "execution_count": 2,
   "metadata": {
    "collapsed": true
   },
   "outputs": [],
   "source": [
    "# Global config \n",
    "num_bp = 5 # number of truncated backprop steps ('n' in the discussion above)\n",
    "batch_size = 10\n",
    "input_size = 3\n",
    "output_size = 1\n",
    "state_size = 4\n",
    "h1_size = 2\n",
    "#learning_rate = 0.5\n",
    "num_mov = 6\n",
    "max_len_mov = 4\n",
    "Epochs = 20000"
   ]
  },
  {
   "cell_type": "code",
   "execution_count": 3,
   "metadata": {
    "collapsed": true
   },
   "outputs": [],
   "source": [
    "#generate data\n",
    "def gen_data(size=600):\n",
    "    X = np.ones(shape=(1,size))\n",
    "    Y = np.zeros(shape=(1,size))\n",
    "    n = int(num_mov/100*size)\n",
    "    idx = 0\n",
    "    for _ in range(n):\n",
    "        d_idx = np.random.poisson(lam=10)\n",
    "        len_mov = np.random.poisson(lam=max_len_mov)\n",
    "        idx += d_idx\n",
    "        if np.random.rand()>0.5:\n",
    "            X[0,idx:idx+len_mov] = 2\n",
    "        else:\n",
    "            X[0,idx:idx+len_mov] = 0\n",
    "        idx += len_mov\n",
    "        if idx>size:\n",
    "            break\n",
    "    for idx in range(size):\n",
    "        Y[0,idx] = Y[0,idx-1] + X[0,idx] - 1\n",
    "    return X,Y"
   ]
  },
  {
   "cell_type": "code",
   "execution_count": 4,
   "metadata": {},
   "outputs": [
    {
     "data": {
      "image/png": "[encoded data removed]",
      "text/plain": [
       "<matplotlib.figure.Figure at 0x24dc4932ac8>"
      ]
     },
     "metadata": {},
     "output_type": "display_data"
    }
   ],
   "source": [
    "size = 100\n",
    "X_, Y_ = gen_data(size)\n",
    "f1 = plt.figure()\n",
    "plt.subplot(2,1,1)\n",
    "plt.plot(list(range(size)), X_.T)\n",
    "plt.subplot(2,1,2)\n",
    "plt.plot(list(range(size)), Y_.T)\n",
    "plt.show()"
   ]
  },
  {
   "cell_type": "code",
   "execution_count": 5,
   "metadata": {
    "collapsed": true
   },
   "outputs": [],
   "source": [
    "def genBatch(data, batch_size, num_bp):\n",
    "    data_x, data_y = data\n",
    "    length = len(data_y[0])\n",
    "    data_x_batch = np.reshape(data_x[0], [batch_size,-1])\n",
    "    data_y_batch = np.reshape(data_y[0], [batch_size, -1])\n",
    "    data_x_step = []\n",
    "    data_y_step = []\n",
    "    for ii in range(int(length/num_bp/batch_size)):\n",
    "        data_x_step.append(data_x_batch[:,ii*num_bp:(ii+1)*num_bp])\n",
    "        data_y_step.append(data_y_batch[:,ii*num_bp:(ii+1)*num_bp])\n",
    "\n",
    "    #for ii in range(int(length/batch_size)-num_bp):\n",
    "     #   data_x_step.append(data_x_batch[:,ii:ii+num_bp])\n",
    "      #  data_y_step.append(data_y_batch[:,ii:ii+num_bp])\n",
    "    x,y = list(data_x_step), list(data_y_step)\n",
    "    \n",
    "    return x,y"
   ]
  },
  {
   "cell_type": "markdown",
   "metadata": {},
   "source": [
    "data = gen_data()\n",
    "x,y = genBatch(data, batch_size, num_bp)\n",
    "#print(len(x[0]))\n",
    "#print(y)"
   ]
  },
  {
   "cell_type": "code",
   "execution_count": 6,
   "metadata": {
    "collapsed": true
   },
   "outputs": [],
   "source": [
    "trainX = list()\n",
    "trainY = list()\n",
    "for i in range(num_bp):\n",
    "    trainX.append(tf.placeholder(tf.float32, shape=(batch_size, input_size)))\n",
    "    \n",
    "    trainY.append(tf.placeholder(tf.float32, shape=(batch_size, output_size)))\n",
    "state_first = tf.placeholder(tf.float32, shape=(batch_size, state_size), name='1st')\n",
    "#RNN layer variables\n",
    "U = tf.Variable(tf.truncated_normal([input_size+state_size, state_size], -0.1, 0.1))\n",
    "#U = tf.Variable(tf.zeros(shape=[input_size+state_size, state_size]),dtype=tf.float32)\n",
    "#W = tf.Variable(tf.truncated_normal([state_size, state_size], -0.1, 0.1))\n",
    "b = tf.Variable(tf.zeros([1, state_size]))\n",
    "\n",
    "#output layer variables\n",
    "\"\"\"V = tf.Variable(tf.truncated_normal([state_size, output_size], -0.1, 0.1))\n",
    "#V = tf.Variable(tf.zeros([state_size, output_size]), dtype=tf.float32)\n",
    "c = tf.Variable(tf.zeros([batch_size, output_size]))\"\"\"\n",
    "W1 = tf.Variable(tf.truncated_normal([state_size, h1_size], -0.1, 0.1))\n",
    "b1 = tf.Variable(tf.zeros([batch_size, h1_size]))\n",
    "Wo = tf.Variable(tf.truncated_normal([h1_size, output_size], -0.1, 0.1))\n",
    "bo = tf.Variable(tf.zeros([batch_size, output_size]))\n",
    "\n",
    "#model\n",
    "def RNN(x, state_pre):\n",
    "    #a = tf.concat([tf.matmul(x, U), tf.matmul(state_pre, W)], axis=1) + b\n",
    "    a = tf.matmul(tf.concat([x, state_pre], axis=1), U) + b\n",
    "    state = tf.nn.softmax(a)\n",
    "    #o_out = tf.matmul(state, V) + c\n",
    "    \n",
    "    h1 = tf.matmul(state, W1) + b1\n",
    "    o_out = tf.matmul(tf.nn.softmax(h1), Wo) + bo\n",
    "    \n",
    "    return state, o_out\n",
    "\n",
    "\n",
    "for i in range(num_bp):\n",
    "    if i == 0:\n",
    "        outputs = list()\n",
    "        state_after, output_after = RNN(trainX[i], state_first)\n",
    "    else:\n",
    "        state_after, output_after = RNN(trainX[i], state_pre)\n",
    "    state_pre = state_after\n",
    "    outputs.append(output_after)"
   ]
  },
  {
   "cell_type": "code",
   "execution_count": 7,
   "metadata": {
    "collapsed": true
   },
   "outputs": [],
   "source": [
    "#train\n",
    "\n",
    "#log likelihood loss\n",
    "#loss = tf.reduce_mean(tf.nn.softmax_cross_entropy_with_logits(logits=tf.concat(outputs,0),labels=tf.concat(trainY,0)))\n",
    "loss = tf.losses.mean_squared_error(labels=tf.concat(trainY,0), predictions = tf.concat(outputs,0))\n",
    "learning_rate = tf.placeholder(tf.float32, shape=[])\n",
    "\n",
    "#optimizer\n",
    "global_epoch = tf.Variable(0)\n",
    "learning_rate = tf.train.exponential_decay(\n",
    "    learning_rate=1.0, global_step=global_epoch, decay_steps=2000, decay_rate=0.9, staircase=True)\n",
    "#learning_rate = 1.0\n",
    "\n",
    "optimizer = tf.train.AdadeltaOptimizer(learning_rate=learning_rate)\n",
    "#optimizer = tf.train.GradientDescentOptimizer(learning_rate=learning_rate)\n",
    "#optimizer = tf.train.AdamOptimizer(learning_rate=learning_rate)\n",
    "\n",
    "gradients,var=zip(*optimizer.compute_gradients(loss))\n",
    "gradients_clipped, _ = tf.clip_by_global_norm(gradients, 1.5)\n",
    "opt=optimizer.apply_gradients(zip(gradients_clipped,var),global_step=global_epoch)\n",
    "\n",
    "\n"
   ]
  },
  {
   "cell_type": "code",
   "execution_count": null,
   "metadata": {
    "collapsed": true,
    "scrolled": false
   },
   "outputs": [],
   "source": [
    "#add init op to the graph\n",
    "init = tf.global_variables_initializer()\n",
    "size = 200\n",
    "data = gen_data(size=size)\n",
    "batch_x, batch_y = genBatch(data, batch_size, num_bp)\n",
    "steps = len(batch_y)\n",
    "\n",
    "sess = tf.Session()\n",
    "sess.run(init)\n",
    "average_loss_series = list()\n",
    "outputs_series = list()\n"
   ]
  },
  {
   "cell_type": "code",
   "execution_count": null,
   "metadata": {},
   "outputs": [
    {
     "data": {
      "image/png": "[encoded data removed]",
      "text/plain": [
       "<matplotlib.figure.Figure at 0x24dcb694358>"
      ]
     },
     "metadata": {},
     "output_type": "display_data"
    },
    {
     "data": {
      "text/plain": [
       "1201/|/  6%|| 1201/20000 [00:33<11:32, 27.16it/s]"
      ]
     },
     "metadata": {},
     "output_type": "display_data"
    },
    {
     "name": "stdout",
     "output_type": "stream",
     "text": [
      "Epoch: 1200 Average Loss: 1.01886665821\n"
     ]
    }
   ],
   "source": [
    "average_loss_series = list()\n",
    "outputs_series = list()\n",
    "pbar = tqdm(total=Epochs)\n",
    "for epoch in range(Epochs):\n",
    "    if epoch%50 == 0:\n",
    "        plot_y = np.zeros([batch_size, int(size/batch_size)])\n",
    "    for step in range(steps):\n",
    "        \n",
    "        average_loss = list()\n",
    "        #initialize the output\n",
    "        if step == 0:\n",
    "            if epoch == 0:\n",
    "                output_pass = np.zeros([batch_size, state_size], dtype=np.float32)\n",
    "            else:\n",
    "                output_pass = np.zeros([batch_size, state_size], dtype=np.float32)\n",
    "                output_pass[1:batch_size,:] = np.asarray(state_after_[0:batch_size-1][:])\n",
    "        else:\n",
    "            output_pass = state_after_\n",
    "        feed_dict={state_first: output_pass}\n",
    "\n",
    "\n",
    "        #trains x\n",
    "        for i in range(num_bp):\n",
    "            batch_x_i = batch_x[step][:,i].astype(int)\n",
    "            batch_x_i_onehot = np.zeros((len(batch_x_i), input_size))\n",
    "            batch_x_i_onehot[range(len(batch_x_i)), batch_x_i] = 1\n",
    "            feed_dict[trainX[i]] = batch_x_i_onehot\n",
    "\n",
    "            batch_y_i = np.reshape(batch_y[step][:,i],[batch_size,1])\n",
    "            feed_dict[trainY[i]] = batch_y_i\n",
    "        \n",
    "        feed_dict[learning_rate] = 1.0\n",
    "        \n",
    "        state_after_, l ,outputs_, _ = sess.run([state_after, loss, outputs, opt], feed_dict=feed_dict)\n",
    "        outputs_series.append(outputs_)\n",
    "        average_loss.append(l)\n",
    "        ave_loss = sum(average_loss)/float(len(average_loss))\n",
    "        \n",
    "        #if epoch%50 == 0:\n",
    "         #   plot_y[:, step] = outputs_[0].reshape([batch_size])\n",
    "    #if epoch%50 == 0:\n",
    "     #       plot_y[:, steps:int(size/batch_size)] = np.asarray(outputs_).reshape([batch_size, num_bp])   \n",
    "        \n",
    "        if epoch%100 == 0:\n",
    "            plot_y[:, step*num_bp:(step+1)*num_bp] = np.asarray(outputs_).flatten().reshape([-1,batch_size]).T #np.asarray(outputs_).reshape([batch_size, num_bp])\n",
    "            \n",
    "            \n",
    "    \n",
    "    pbar.update(1)\n",
    "    if epoch%100 == 0:\n",
    "        display.clear_output(wait=True)\n",
    "        f2 = plt.figure()\n",
    "        plt.plot(plot_y.reshape([-1]),label='Preiction')\n",
    "        plt.plot(data[1][0],label='Real')\n",
    "        display.display(plt.gcf())\n",
    "        display.display(pbar)\n",
    "        print ('Epoch: ' +str(epoch) + ' Average Loss: '+str(ave_loss))\n",
    "        time.sleep(0.01)        \n",
    "        \n",
    "    average_loss_series.append(ave_loss)\n",
    "    global_epoch += 1\n",
    "pbar.close()"
   ]
  },
  {
   "cell_type": "code",
   "execution_count": null,
   "metadata": {},
   "outputs": [],
   "source": [
    "f2.savefig('RandomWalk.png')"
   ]
  },
  {
   "cell_type": "markdown",
   "metadata": {
    "scrolled": true
   },
   "source": [
    "f1 = plt.figure()\n",
    "plt.plot(average_loss_series)\n",
    "plt.show(f1)"
   ]
  },
  {
   "cell_type": "markdown",
   "metadata": {},
   "source": [
    "f2 = plt.figure()\n",
    "plt.plot(plot_y.reshape([-1]),label='Preiction')\n",
    "plt.plot(data[1][0],label='Real')\n",
    "plt.legend()\n",
    "plt.show()"
   ]
  }
 ],
 "metadata": {
  "kernelspec": {
   "display_name": "Python [default]",
   "language": "python",
   "name": "python3"
  },
  "language_info": {
   "codemirror_mode": {
    "name": "ipython",
    "version": 3
   },
   "file_extension": ".py",
   "mimetype": "text/x-python",
   "name": "python",
   "nbconvert_exporter": "python",
   "pygments_lexer": "ipython3",
   "version": "3.6.3"
  }
 },
 "nbformat": 4,
 "nbformat_minor": 2
}
