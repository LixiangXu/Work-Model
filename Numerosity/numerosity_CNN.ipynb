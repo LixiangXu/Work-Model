{
 "cells": [
  {
   "cell_type": "code",
   "execution_count": 2,
   "metadata": {
    "collapsed": true
   },
   "outputs": [],
   "source": [
    "# Imports\n",
    "import numpy as np\n",
    "import tensorflow as tf\n",
    "import os\n",
    "from matplotlib import pyplot as plt\n",
    "import random\n",
    "import time"
   ]
  },
  {
   "cell_type": "code",
   "execution_count": 2,
   "metadata": {
    "collapsed": true
   },
   "outputs": [],
   "source": [
    "def gen_img(pattern):\n",
    "    pattern = pattern.reshape(edg, edg)\n",
    "    p1 = plt.imshow(pattern)\n",
    "    return p1"
   ]
  },
  {
   "cell_type": "code",
   "execution_count": 3,
   "metadata": {
    "collapsed": false
   },
   "outputs": [
    {
     "name": "stdout",
     "output_type": "stream",
     "text": [
      "Log Directory existed.\n"
     ]
    }
   ],
   "source": [
    "edg = 64\n",
    "cd = os.getcwd()\n",
    "logpath = cd+\"\\\\logs\"\n",
    "if os.path.isdir(logpath) == False:\n",
    "    os.mkdir(logpath)\n",
    "    print(\"Log Directory created.\")\n",
    "else:\n",
    "    print(\"Log Directory existed.\")"
   ]
  },
  {
   "cell_type": "code",
   "execution_count": 56,
   "metadata": {
    "collapsed": true,
    "scrolled": true
   },
   "outputs": [],
   "source": [
    "# Load training and eval data\n",
    "path = cd + \"\\\\patterns\"\n",
    "\n",
    "N=5000\n",
    "train_N = 4000\n",
    "eval_N = 1000\n",
    "\n",
    "n_per_label = 100\n",
    "max_label = 10\n",
    "num = 1000\n",
    "shape = 0\n",
    "size = 3\n",
    "\n",
    "#load patterns and labels\n",
    "title = \"\\\\patterns_random_label\"+\"_\"+str(N)+\"_size_\"+str(size)+\"_shape_\"+str(shape)+\"_nonoverlapping\"\n",
    "filename = path + title\n",
    "data = np.load(filename+\".npy\")\n",
    "title = \"\\\\labels_random_label\"+\"_\"+str(N)+\"_size_\"+str(size)+\"_shape_\"+str(shape)+\"_nonoverlapping\"\n",
    "filename = path + title\n",
    "labels = np.load(filename+\".npy\")\n",
    "\n",
    "\n",
    "train_data = data[:train_N]\n",
    "train_labels = labels[:train_N]\n",
    "eval_data = data[train_N:train_N+eval_N]\n",
    "eval_labels = labels[train_N:train_N+eval_N]"
   ]
  },
  {
   "cell_type": "code",
   "execution_count": 5,
   "metadata": {
    "collapsed": true
   },
   "outputs": [],
   "source": [
    "X = tf.placeholder(\"float\", [None, edg*edg])\n",
    "Y = tf.placeholder(\"float\", [None, max_label])\n",
    "# Input Layer\n",
    "input_layer = tf.reshape(X, [-1, 64, 64, 1])\n",
    "\n",
    "# Convolutional Layer #1\n",
    "conv1 = tf.layers.conv2d(\n",
    "    inputs=input_layer,\n",
    "    filters=32,\n",
    "    kernel_size=[5, 5],\n",
    "    padding=\"same\",\n",
    "    activation=tf.nn.relu)\n",
    "\n",
    "# Pooling Layer #1\n",
    "pool1 = tf.layers.max_pooling2d(inputs=conv1, pool_size=[2, 2], strides=2)\n",
    "\n",
    "pool1_flat = tf.reshape(pool1, [-1, 16*16*128])\n",
    "dense = tf.layers.dense(inputs=pool1_flat, units=1024, activation=tf.nn.relu)\n",
    "\n",
    "\n",
    "dropout = tf.layers.dropout(\n",
    "        inputs=dense, rate=0.4)\n",
    "# Logits Layer\n",
    "logits = tf.layers.dense(inputs=dropout, units=max_label)\n",
    "predictions = tf.argmax(logits, axis=1)"
   ]
  },
  {
   "cell_type": "code",
   "execution_count": 6,
   "metadata": {
    "collapsed": true
   },
   "outputs": [],
   "source": [
    "eta = 0.1\n",
    "y = tf.argmax(Y, axis=1)\n",
    "cost = tf.reduce_mean(tf.nn.softmax_cross_entropy_with_logits(logits=logits, labels=Y))\n",
    "train_op = tf.train.GradientDescentOptimizer(eta).minimize(cost)\n",
    "#train_op = tf.train.AdamOptimizer(eta).minimize(cost)"
   ]
  },
  {
   "cell_type": "code",
   "execution_count": 38,
   "metadata": {
    "collapsed": false,
    "scrolled": false
   },
   "outputs": [
    {
     "name": "stdout",
     "output_type": "stream",
     "text": [
      "Epoch: 4, mean error = 0.088750, used time = 124 s\n",
      "Epoch: 9, mean error = 0.081750, used time = 121 s\n",
      "Epoch: 14, mean error = 0.102750, used time = 114 s\n",
      "Epoch: 19, mean error = 0.155250, used time = 113 s\n",
      "Epoch: 24, mean error = 0.072250, used time = 125 s\n",
      "Epoch: 29, mean error = 0.043500, used time = 114 s\n",
      "Epoch: 34, mean error = 0.037000, used time = 113 s\n",
      "Epoch: 39, mean error = 0.031750, used time = 126 s\n",
      "Epoch: 44, mean error = 0.028750, used time = 120 s\n",
      "Epoch: 49, mean error = 0.026250, used time = 123 s\n",
      "Epoch: 54, mean error = 0.023250, used time = 117 s\n",
      "Epoch: 59, mean error = 0.021250, used time = 117 s\n",
      "Epoch: 64, mean error = 0.018750, used time = 114 s\n",
      "Epoch: 69, mean error = 0.017750, used time = 111 s\n",
      "Epoch: 74, mean error = 0.015500, used time = 123 s\n",
      "Epoch: 79, mean error = 0.013500, used time = 125 s\n",
      "Epoch: 84, mean error = 0.011750, used time = 106 s\n",
      "Epoch: 89, mean error = 0.010000, used time = 111 s\n",
      "Epoch: 94, mean error = 0.008000, used time = 116 s\n",
      "Epoch: 99, mean error = 0.006250, used time = 113 s\n"
     ]
    }
   ],
   "source": [
    "epochs = 300\n",
    "mseErr = []\n",
    "sess = tf.Session()\n",
    "init = tf.global_variables_initializer()\n",
    "sess.run(init)\n",
    "for n_epoch in range(epochs):\n",
    "    if n_epoch%15 == 0:\n",
    "        time_start = time.time()\n",
    "    sess.run(train_op, feed_dict={X: train_data, Y: train_labels})\n",
    "    Err = 1 - (np.mean(np.argmax(train_labels, axis=1)==sess.run(predictions, feed_dict ={X:train_data})))\n",
    "    mseErr.append(Err)\n",
    "    if n_epoch%15 == 14:\n",
    "        time_end = time.time()\n",
    "        print('Epoch: %d, mean error = %f, used time = %d s'%(n_epoch, Err, time_end - time_start))"
   ]
  },
  {
   "cell_type": "code",
   "execution_count": 3,
   "metadata": {
    "collapsed": false,
    "scrolled": true
   },
   "outputs": [
    {
     "ename": "NameError",
     "evalue": "name 'mseErr' is not defined",
     "output_type": "error",
     "traceback": [
      "\u001b[0;31m---------------------------------------------------------------------------\u001b[0m",
      "\u001b[0;31mNameError\u001b[0m                                 Traceback (most recent call last)",
      "\u001b[0;32m<ipython-input-3-62165910fb45>\u001b[0m in \u001b[0;36m<module>\u001b[0;34m()\u001b[0m\n\u001b[1;32m      1\u001b[0m \u001b[0mf1\u001b[0m \u001b[1;33m=\u001b[0m \u001b[0mplt\u001b[0m\u001b[1;33m.\u001b[0m\u001b[0mfigure\u001b[0m\u001b[1;33m(\u001b[0m\u001b[1;33m)\u001b[0m\u001b[1;33m\u001b[0m\u001b[0m\n\u001b[0;32m----> 2\u001b[0;31m \u001b[0mplt\u001b[0m\u001b[1;33m.\u001b[0m\u001b[0mplot\u001b[0m\u001b[1;33m(\u001b[0m\u001b[0mmseErr\u001b[0m\u001b[1;33m)\u001b[0m\u001b[1;33m\u001b[0m\u001b[0m\n\u001b[0m\u001b[1;32m      3\u001b[0m \u001b[0mplt\u001b[0m\u001b[1;33m.\u001b[0m\u001b[0mxlabel\u001b[0m\u001b[1;33m(\u001b[0m\u001b[1;34m'Epochs'\u001b[0m\u001b[1;33m)\u001b[0m\u001b[1;33m\u001b[0m\u001b[0m\n\u001b[1;32m      4\u001b[0m \u001b[0mplt\u001b[0m\u001b[1;33m.\u001b[0m\u001b[0mylabel\u001b[0m\u001b[1;33m(\u001b[0m\u001b[1;34m'MSE'\u001b[0m\u001b[1;33m)\u001b[0m\u001b[1;33m\u001b[0m\u001b[0m\n\u001b[1;32m      5\u001b[0m \u001b[0mplt\u001b[0m\u001b[1;33m.\u001b[0m\u001b[0mgrid\u001b[0m\u001b[1;33m(\u001b[0m\u001b[1;33m)\u001b[0m\u001b[1;33m\u001b[0m\u001b[0m\n",
      "\u001b[0;31mNameError\u001b[0m: name 'mseErr' is not defined"
     ]
    }
   ],
   "source": [
    "f1 = plt.figure()\n",
    "plt.plot(mseErr)\n",
    "plt.xlabel('Epochs')\n",
    "plt.ylabel('MSE')\n",
    "plt.grid()\n",
    "plt.ylim([0,1])\n",
    "plt.xlim([0, len(mseErr)])\n",
    "plt.show()"
   ]
  },
  {
   "cell_type": "code",
   "execution_count": 40,
   "metadata": {
    "collapsed": false
   },
   "outputs": [
    {
     "name": "stdout",
     "output_type": "stream",
     "text": [
      "[771, 1534, 1742, 1397, 2643, 2750, 2931, 1970, 1343]\n",
      "[6 8 4 2 4 1 2 8 3]\n",
      "[6 8 4 2 4 1 2 8 3]\n"
     ]
    }
   ],
   "source": [
    "#evaluating the training data\n",
    "seq = random.sample(range(train_N),9)\n",
    "print(seq)\n",
    "y = sess.run(predictions, feed_dict={X: [train_data[kk] for kk in seq]})\n",
    "print(y)\n",
    "print(np.argmax([train_labels[kk] for kk in seq], axis=1))"
   ]
  },
  {
   "cell_type": "code",
   "execution_count": 41,
   "metadata": {
    "collapsed": false,
    "scrolled": true
   },
   "outputs": [
    {
     "name": "stdout",
     "output_type": "stream",
     "text": [
      "[[6 8 4]\n",
      " [2 4 1]\n",
      " [2 8 3]]\n"
     ]
    },
    {
     "data": {
      "image/png": "[encoded data removed]",
      "text/plain": [
       "<matplotlib.figure.Figure at 0x20358e9a160>"
      ]
     },
     "metadata": {},
     "output_type": "display_data"
    }
   ],
   "source": [
    "#plot the training data\n",
    "print(np.argmax(train_labels[seq], axis=1).reshape(3,3))\n",
    "f2 = plt.figure()\n",
    "for ii in range(9):\n",
    "    plt.subplot(3,3, ii+1)\n",
    "    gen_img(train_data[seq[ii]])\n",
    "plt.show(f2)"
   ]
  },
  {
   "cell_type": "code",
   "execution_count": 42,
   "metadata": {
    "collapsed": false
   },
   "outputs": [
    {
     "name": "stdout",
     "output_type": "stream",
     "text": [
      "[4 7 2 4 0 4 0 5 5]\n",
      "[5 4 1 3 0 4 0 5 4]\n"
     ]
    }
   ],
   "source": [
    "#evaluating the testing data\n",
    "seq = random.sample(range(eval_N),9)\n",
    "y = sess.run(predictions, feed_dict={X: [eval_data[kk] for kk in seq]})\n",
    "print(y)\n",
    "print(np.argmax([eval_labels[kk] for kk in seq], axis=1))"
   ]
  },
  {
   "cell_type": "code",
   "execution_count": 43,
   "metadata": {
    "collapsed": false
   },
   "outputs": [
    {
     "name": "stdout",
     "output_type": "stream",
     "text": [
      "[[5 4 1]\n",
      " [3 0 4]\n",
      " [0 5 4]]\n"
     ]
    },
    {
     "data": {
      "image/png": "[encoded data removed]",
      "text/plain": [
       "<matplotlib.figure.Figure at 0x20357d8cb38>"
      ]
     },
     "metadata": {},
     "output_type": "display_data"
    }
   ],
   "source": [
    "#plot the testing data\n",
    "print(np.argmax(eval_labels[seq], axis=1).reshape(3,3))\n",
    "f3 = plt.figure()\n",
    "for ii in range(9):\n",
    "    plt.subplot(3,3, ii+1)\n",
    "    gen_img(eval_data[seq[ii]])\n",
    "plt.show(f3)"
   ]
  },
  {
   "cell_type": "code",
   "execution_count": 49,
   "metadata": {
    "collapsed": false,
    "scrolled": true
   },
   "outputs": [
    {
     "data": {
      "image/png": "[encoded data removed]",
      "text/plain": [
       "<matplotlib.figure.Figure at 0x20358ea0438>"
      ]
     },
     "metadata": {},
     "output_type": "display_data"
    }
   ],
   "source": [
    "#plot accuracy of each number of patterns of testing data\n",
    "label_index = np.zeros([max_label])\n",
    "label_count = np.zeros([max_label])\n",
    "y = sess.run(predictions, feed_dict={X: eval_data})\n",
    "y_ = np.argmax(eval_labels, axis =1)\n",
    "for kk in range(eval_N):\n",
    "    index = y_[kk]\n",
    "    label_index[index] = label_index[index] + 1\n",
    "    if y[kk] == y_[kk]:\n",
    "        label_count[index] = label_count[index] +1\n",
    "label_acc = label_count/label_index\n",
    "label_acc = label_acc.reshape(max_label)\n",
    "f4 = plt.figure()\n",
    "plt.plot(label_acc, marker='o')\n",
    "plt.xlim([0,9])\n",
    "plt.ylim([0,1.1])\n",
    "plt.xlabel('Number of patterns')\n",
    "plt.ylabel('Accuracy')\n",
    "plt.grid()\n",
    "plt.show(f4)"
   ]
  },
  {
   "cell_type": "code",
   "execution_count": 45,
   "metadata": {
    "collapsed": false
   },
   "outputs": [],
   "source": [
    "title = \"\\\\random_label\"+\"_\"+str(N)+\"_size_\"+str(size)+\"_shape_\"+str(shape)+\"_nonoverlapping\"\n",
    "filename = path + title"
   ]
  },
  {
   "cell_type": "code",
   "execution_count": 55,
   "metadata": {
    "collapsed": false
   },
   "outputs": [],
   "source": [
    "f1.savefig(filename+\"_MSE_Epochs.png\")\n",
    "f1.savefig(filename+\"_MSE_Epochs.pdf\")\n",
    "f3.savefig(filename+\"_PatternSamples.png\")\n",
    "f3.savefig(filename+\"_PatternSamples.pdf\")\n",
    "f4.savefig(filename+\"_Accuracy_Number.png\")\n",
    "f4.savefig(filename+\"_Accuracy_Number.pdf\")"
   ]
  }
 ],
 "metadata": {
  "kernelspec": {
   "display_name": "Python 3",
   "language": "python",
   "name": "python3"
  },
  "language_info": {
   "codemirror_mode": {
    "name": "ipython",
    "version": 3
   },
   "file_extension": ".py",
   "mimetype": "text/x-python",
   "name": "python",
   "nbconvert_exporter": "python",
   "pygments_lexer": "ipython3",
   "version": "3.6.0"
  }
 },
 "nbformat": 4,
 "nbformat_minor": 2
}
