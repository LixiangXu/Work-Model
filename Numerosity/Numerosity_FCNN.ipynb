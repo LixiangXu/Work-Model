{
 "cells": [
  {
   "cell_type": "code",
   "execution_count": 1,
   "metadata": {
    "collapsed": true
   },
   "outputs": [],
   "source": [
    "# Imports\n",
    "import numpy as np\n",
    "import tensorflow as tf\n",
    "import os\n",
    "from matplotlib import pyplot as plt\n",
    "import random\n",
    "import time"
   ]
  },
  {
   "cell_type": "code",
   "execution_count": 2,
   "metadata": {
    "collapsed": true
   },
   "outputs": [],
   "source": [
    "def gen_img(pattern):\n",
    "    pattern = pattern.reshape(edg, edg)\n",
    "    p1 = plt.imshow(pattern)\n",
    "    return p1"
   ]
  },
  {
   "cell_type": "code",
   "execution_count": 3,
   "metadata": {
    "collapsed": false
   },
   "outputs": [
    {
     "name": "stdout",
     "output_type": "stream",
     "text": [
      "Log Directory existed.\n"
     ]
    }
   ],
   "source": [
    "edg = 64\n",
    "cd = os.getcwd()\n",
    "logpath = cd+\"\\\\logs\"\n",
    "if os.path.isdir(logpath) == False:\n",
    "    os.mkdir(logpath)\n",
    "    print(\"Log Directory created.\")\n",
    "else:\n",
    "    print(\"Log Directory existed.\")"
   ]
  },
  {
   "cell_type": "code",
   "execution_count": 129,
   "metadata": {
    "collapsed": false
   },
   "outputs": [],
   "source": [
    "# Load training and eval data\n",
    "path = cd + \"\\\\patterns\"\n",
    "\n",
    "N=5000\n",
    "train_N = 4000\n",
    "eval_N = 1000\n",
    "n_per_label = 100\n",
    "max_label = 10\n",
    "shape = 0\n",
    "size = 5\n",
    "\n",
    "#load patterns and labels\n",
    "title = \"\\\\patterns_random_label\"+\"_\"+str(N)+\"_random_size_\"+\"_shape_\"+str(shape)+\"_nonoverlapping\"\n",
    "filename = path + title\n",
    "data = np.load(filename+\".npy\")\n",
    "title = \"\\\\labels_random_label\"+\"_\"+str(N)+\"_random_size_\"+\"_shape_\"+str(shape)+\"_nonoverlapping\"\n",
    "filename = path + title\n",
    "labels = np.load(filename+\".npy\")\n",
    "\n",
    "\n",
    "train_data = data[:train_N]\n",
    "train_labels = labels[:train_N]\n",
    "eval_data = data[train_N:train_N+eval_N]\n",
    "eval_labels = labels[train_N:train_N+eval_N]"
   ]
  },
  {
   "cell_type": "code",
   "execution_count": 131,
   "metadata": {
    "collapsed": true
   },
   "outputs": [],
   "source": [
    "# build model\n",
    "# number of neurons\n",
    "N_h1 = 120\n",
    "N_h2 = 800\n",
    "N_out = max_label\n",
    "\n",
    "X = tf.placeholder(\"float\", [None, edg*edg])\n",
    "Y = tf.placeholder(\"float\", [None, max_label])\n",
    "\n",
    "# Input Layer\n",
    "input_layer = tf.reshape(X, [-1, edg*edg])\n",
    "h1_layer = tf.layers.dense(inputs=input_layer, units=N_h1, activation=tf.nn.relu)\n",
    "h2_layer = tf.layers.dense(inputs=h1_layer, units=N_h2, activation=tf.nn.relu)\n",
    "logits = tf.layers.dense(h2_layer, units=N_out)\n",
    "\n",
    "predictions = tf.argmax(logits, axis=1)"
   ]
  },
  {
   "cell_type": "code",
   "execution_count": 132,
   "metadata": {
    "collapsed": true
   },
   "outputs": [],
   "source": [
    "eta = 0.1\n",
    "y = tf.argmax(Y, axis=1)\n",
    "cost = tf.reduce_mean(tf.nn.softmax_cross_entropy_with_logits(logits=logits, labels=Y))\n",
    "train_op = tf.train.GradientDescentOptimizer(eta).minimize(cost)"
   ]
  },
  {
   "cell_type": "code",
   "execution_count": 133,
   "metadata": {
    "collapsed": false,
    "scrolled": true
   },
   "outputs": [
    {
     "name": "stdout",
     "output_type": "stream",
     "text": [
      "Epoch: 99, mean error = 0.613250, used time = 29 s\n",
      "Epoch: 199, mean error = 0.430750, used time = 29 s\n",
      "Epoch: 299, mean error = 0.323000, used time = 29 s\n",
      "Epoch: 399, mean error = 0.193250, used time = 29 s\n",
      "Epoch: 499, mean error = 0.163250, used time = 29 s\n",
      "Epoch: 599, mean error = 0.037500, used time = 29 s\n",
      "Epoch: 699, mean error = 0.017500, used time = 28 s\n",
      "Epoch: 799, mean error = 0.009250, used time = 28 s\n",
      "Epoch: 899, mean error = 0.002750, used time = 28 s\n",
      "Epoch: 999, mean error = 0.001750, used time = 28 s\n"
     ]
    }
   ],
   "source": [
    "epochs = 1000\n",
    "mseErr = []\n",
    "sess = tf.Session()\n",
    "init = tf.global_variables_initializer()\n",
    "sess.run(init)\n",
    "for n_epoch in range(epochs):\n",
    "    if n_epoch%100 == 0:\n",
    "        time_start = time.time()\n",
    "    sess.run(train_op, feed_dict={X: train_data, Y: train_labels})\n",
    "    Err = 1- (np.mean(np.argmax(train_labels, axis=1)==sess.run(predictions, feed_dict ={X:train_data})))\n",
    "    mseErr.append(Err)\n",
    "    if n_epoch%100 == 99:\n",
    "        time_end = time.time()\n",
    "        print('Epoch: %d, mean error = %f, used time = %d s'%(n_epoch, Err, time_end - time_start))"
   ]
  },
  {
   "cell_type": "code",
   "execution_count": 134,
   "metadata": {
    "collapsed": false
   },
   "outputs": [
    {
     "data": {
      "image/png": "[encoded data removed]",
      "text/plain": [
       "<matplotlib.figure.Figure at 0x27d6a4249b0>"
      ]
     },
     "metadata": {},
     "output_type": "display_data"
    }
   ],
   "source": [
    "#plot the training data MSE vs. Epochs\n",
    "f1 = plt.figure()\n",
    "plt.plot(mseErr)\n",
    "plt.xlabel('Epochs')\n",
    "plt.ylabel('MSE')\n",
    "plt.grid()\n",
    "plt.ylim([0,1])\n",
    "plt.xlim([0, len(mseErr)])\n",
    "plt.show()"
   ]
  },
  {
   "cell_type": "code",
   "execution_count": 135,
   "metadata": {
    "collapsed": false,
    "scrolled": true
   },
   "outputs": [
    {
     "name": "stdout",
     "output_type": "stream",
     "text": [
      "[3598, 631, 3924, 3870, 3880, 605, 2225, 2147, 1093]\n",
      "[7 9 7 6 3 6 2 5 6]\n",
      "[7 9 7 6 3 6 2 5 6]\n"
     ]
    }
   ],
   "source": [
    "#evaluating the training data\n",
    "seq = random.sample(range(train_N),9)\n",
    "print(seq)\n",
    "y = sess.run(predictions, feed_dict={X: [train_data[kk] for kk in seq]})\n",
    "print(y)\n",
    "print(np.argmax([train_labels[kk] for kk in seq], axis=1))"
   ]
  },
  {
   "cell_type": "code",
   "execution_count": 136,
   "metadata": {
    "collapsed": false,
    "scrolled": false
   },
   "outputs": [
    {
     "name": "stdout",
     "output_type": "stream",
     "text": [
      "[7 9 7 6 3 6 2 5 6]\n"
     ]
    },
    {
     "data": {
      "image/png": "[encoded data removed]",
      "text/plain": [
       "<matplotlib.figure.Figure at 0x27d6a424cc0>"
      ]
     },
     "metadata": {},
     "output_type": "display_data"
    }
   ],
   "source": [
    "#plot the training data\n",
    "print(np.argmax(train_labels[seq], axis=1))\n",
    "f2 = plt.figure()\n",
    "for ii in range(9):\n",
    "    plt.subplot(3,3, ii+1)\n",
    "    gen_img(train_data[seq[ii]])\n",
    "plt.show(f2)"
   ]
  },
  {
   "cell_type": "code",
   "execution_count": 137,
   "metadata": {
    "collapsed": false,
    "scrolled": false
   },
   "outputs": [
    {
     "name": "stdout",
     "output_type": "stream",
     "text": [
      "[2 9 6 4 2 5 4 5 1]\n",
      "[3 8 9 4 4 6 3 5 3]\n"
     ]
    }
   ],
   "source": [
    "#evaluating the testing data\n",
    "seq = random.sample(range(eval_N),9)\n",
    "y = sess.run(predictions, feed_dict={X: [eval_data[kk] for kk in seq]})\n",
    "print(y)\n",
    "print(np.argmax([eval_labels[kk] for kk in seq], axis=1))"
   ]
  },
  {
   "cell_type": "code",
   "execution_count": 138,
   "metadata": {
    "collapsed": false,
    "scrolled": false
   },
   "outputs": [
    {
     "name": "stdout",
     "output_type": "stream",
     "text": [
      "[3 8 9 4 4 6 3 5 3]\n"
     ]
    },
    {
     "data": {
      "image/png": "[encoded data removed]",
      "text/plain": [
       "<matplotlib.figure.Figure at 0x27d6a0fa320>"
      ]
     },
     "metadata": {},
     "output_type": "display_data"
    }
   ],
   "source": [
    "#plot the testing data\n",
    "print(np.argmax(eval_labels[seq], axis=1))\n",
    "f3 = plt.figure()\n",
    "for ii in range(9):\n",
    "    plt.subplot(3,3, ii+1)\n",
    "    gen_img(eval_data[seq[ii]])\n",
    "plt.show(f3)"
   ]
  },
  {
   "cell_type": "code",
   "execution_count": 139,
   "metadata": {
    "collapsed": false,
    "scrolled": true
   },
   "outputs": [
    {
     "data": {
      "image/png": "[encoded data removed]",
      "text/plain": [
       "<matplotlib.figure.Figure at 0x27d001c64e0>"
      ]
     },
     "metadata": {},
     "output_type": "display_data"
    }
   ],
   "source": [
    "#plot accuracy of each number of patterns of testing data\n",
    "label_index = np.zeros([max_label])\n",
    "label_count = np.zeros([max_label])\n",
    "y = sess.run(predictions, feed_dict={X: eval_data})\n",
    "y_ = np.argmax(eval_labels, axis =1)\n",
    "for kk in range(eval_N):\n",
    "    index = y_[kk]\n",
    "    label_index[index] = label_index[index] + 1\n",
    "    if y[kk] == y_[kk]:\n",
    "        label_count[index] = label_count[index] +1\n",
    "label_acc = label_count/label_index\n",
    "label_acc = label_acc.reshape(max_label)\n",
    "f4 = plt.figure()\n",
    "plt.plot(label_acc, marker='o')\n",
    "plt.xlim([0,max_label-1])\n",
    "plt.ylim([0,1.1])\n",
    "plt.xlabel('Number of patterns')\n",
    "plt.ylabel('Accuracy')\n",
    "plt.grid()\n",
    "plt.show(f4)"
   ]
  },
  {
   "cell_type": "code",
   "execution_count": 140,
   "metadata": {
    "collapsed": true
   },
   "outputs": [],
   "source": [
    "title = \"\\\\random_label\"+\"_\"+str(N)+\"_random_size_\"+\"_shape_\"+str(shape)+\"_nonoverlapping\"+\"_FCNN\"\n",
    "filename = path + title"
   ]
  },
  {
   "cell_type": "code",
   "execution_count": 141,
   "metadata": {
    "collapsed": true
   },
   "outputs": [],
   "source": [
    "np.save(filename+\"_Acc_number\", label_acc)\n",
    "f1.savefig(filename+\"_MSE_Epochs.png\")\n",
    "f1.savefig(filename+\"_MSE_Epochs.pdf\")\n",
    "f3.savefig(filename+\"_PatternSamples.png\")\n",
    "f3.savefig(filename+\"_PatternSamples.pdf\")\n",
    "f4.savefig(filename+\"_Accuracy_Number.png\")\n",
    "f4.savefig(filename+\"_Accuracy_Number.pdf\")"
   ]
  }
 ],
 "metadata": {
  "kernelspec": {
   "display_name": "Python 3",
   "language": "python",
   "name": "python3"
  },
  "language_info": {
   "codemirror_mode": {
    "name": "ipython",
    "version": 3
   },
   "file_extension": ".py",
   "mimetype": "text/x-python",
   "name": "python",
   "nbconvert_exporter": "python",
   "pygments_lexer": "ipython3",
   "version": "3.6.0"
  }
 },
 "nbformat": 4,
 "nbformat_minor": 2
}
