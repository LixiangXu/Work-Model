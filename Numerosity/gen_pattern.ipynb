{
 "cells": [
  {
   "cell_type": "code",
   "execution_count": 1,
   "metadata": {
    "collapsed": true
   },
   "outputs": [],
   "source": [
    "import numpy as np\n",
    "from matplotlib import pyplot as plt\n",
    "import random\n",
    "import os\n",
    "import csv\n",
    "from PIL import Image"
   ]
  },
  {
   "cell_type": "code",
   "execution_count": 2,
   "metadata": {
    "collapsed": false
   },
   "outputs": [
    {
     "name": "stdout",
     "output_type": "stream",
     "text": [
      "Directory existed.\n"
     ]
    }
   ],
   "source": [
    "cd = os.getcwd()\n",
    "path = cd+\"\\\\patterns\"\n",
    "if os.path.isdir(path) == False:\n",
    "    os.mkdir(path)\n",
    "    print(\"Directory created.\")\n",
    "else:\n",
    "    print(\"Directory existed.\")"
   ]
  },
  {
   "cell_type": "code",
   "execution_count": 3,
   "metadata": {
    "collapsed": true
   },
   "outputs": [],
   "source": [
    "edg = 64"
   ]
  },
  {
   "cell_type": "code",
   "execution_count": 4,
   "metadata": {
    "collapsed": false
   },
   "outputs": [],
   "source": [
    "def one_pattern(size, shape, x, y):\n",
    "    pattern = np.zeros([edg, edg])\n",
    "    for ii in range(size):\n",
    "        for jj in range(size):\n",
    "            if shape == 0:\n",
    "                pattern[x+ii, y+jj] = 1\n",
    "            elif shape ==1:\n",
    "                if np.abs(ii-jj)<size/2:\n",
    "                    pattern[x+ii, y+jj] = 1\n",
    "    return pattern"
   ]
  },
  {
   "cell_type": "code",
   "execution_count": 5,
   "metadata": {
    "collapsed": true
   },
   "outputs": [],
   "source": [
    "def gen_img(pattern):\n",
    "    pattern = pattern.reshape(edg, edg)\n",
    "    p1 = plt.imshow(pattern)\n",
    "    return p1"
   ]
  },
  {
   "cell_type": "code",
   "execution_count": 46,
   "metadata": {
    "collapsed": true
   },
   "outputs": [],
   "source": [
    "def gen_patterns(label=3, size=3, shape=0):\n",
    "    # N: number of pattern in one data\n",
    "    # size: size of one pattern\n",
    "    # num: copy of data\n",
    "    # shape: shape of pattern\n",
    "    patterns = np.zeros([edg*edg])\n",
    "    for n_N in range(label):\n",
    "        x,y = np.random.randint(0,edg-size, 2)\n",
    "        #non-overlapping\n",
    "        temp_patterns = patterns.reshape(edg, edg)\n",
    "        #random size\n",
    "        #Size = np.random.randint(3, 10)\n",
    "        #print (Size)\n",
    "        Size = size\n",
    "        while (temp_patterns[x:x+size, y:y+size]).sum() > 0:\n",
    "            x,y = np.random.randint(0,edg-size, 2)  \n",
    "        patterns = patterns + (one_pattern(size=Size, shape=shape, x=x, y=y)).reshape([edg*edg])\n",
    "    for kk in range(len(patterns)):\n",
    "        if patterns[kk]>1:\n",
    "            patterns[kk] = 1\n",
    "    return patterns"
   ]
  },
  {
   "cell_type": "code",
   "execution_count": 37,
   "metadata": {
    "collapsed": false,
    "scrolled": true
   },
   "outputs": [
    {
     "name": "stdout",
     "output_type": "stream",
     "text": [
      "File saved: \\patterns_random_label_5000_random_size__shape_0_nonoverlapping\n",
      "File saved: \\labels_random_label_5000_random_size__shape_0_nonoverlapping\n"
     ]
    }
   ],
   "source": [
    "size=10\n",
    "max_label = 10\n",
    "shape=0\n",
    "N=5000\n",
    "labels = np.random.randint(0,max_label, size=(N))\n",
    "patterns = np.asarray([gen_patterns(label = label, size=size, shape=shape) for label in labels]).reshape(N, edg*edg)\n",
    "\n",
    "title = \"\\\\patterns_random_label\"+\"_\"+str(N)+\"_random_size_\"+\"_shape_\"+str(shape)+\"_nonoverlapping\"\n",
    "filename=path + title\n",
    "np.save(filename, patterns)\n",
    "print(\"File saved: \"+title)\n",
    "\n",
    "title = \"\\\\labels_random_label\"+\"_\"+str(N)+\"_random_size_\"+\"_shape_\"+str(shape)+\"_nonoverlapping\"\n",
    "filename=path + title\n",
    "labels_mat = np.zeros((N, max_label))\n",
    "for kk in range(len(labels)):\n",
    "    labels_mat[kk, labels[kk]]=1\n",
    "np.save(filename, labels_mat)\n",
    "print(\"File saved: \"+title)\n"
   ]
  },
  {
   "cell_type": "code",
   "execution_count": 21,
   "metadata": {
    "collapsed": true
   },
   "outputs": [],
   "source": [
    "title = \"\\\\patterns_random_label\"+\"_\"+str(N)+\"_random_size_\"+\"_shape_\"+str(shape)+\"_nonoverlapping\"\n",
    "filename=path + title\n",
    "patterns = np.load(filename+\".npy\")\n",
    "title = \"\\\\labels_random_label\"+\"_\"+str(N)+\"_random_size_\"+\"_shape_\"+str(shape)+\"_nonoverlapping\"\n",
    "filename=path + title\n",
    "labels = np.load(filename+\".npy\")"
   ]
  },
  {
   "cell_type": "code",
   "execution_count": 22,
   "metadata": {
    "collapsed": false,
    "scrolled": false
   },
   "outputs": [
    {
     "data": {
      "image/png": "[encoded data removed]",
      "text/plain": [
       "<matplotlib.figure.Figure at 0x1fb95533860>"
      ]
     },
     "metadata": {},
     "output_type": "display_data"
    },
    {
     "name": "stdout",
     "output_type": "stream",
     "text": [
      "[[16 34 14]\n",
      " [34 43 35]\n",
      " [25  1 29]]\n"
     ]
    }
   ],
   "source": [
    "f1 = plt.figure()\n",
    "for ii in range(9):\n",
    "    plt.subplot(3,3,ii+1)\n",
    "    p1=gen_img(patterns[ii+9])\n",
    "plt.show(f1)\n",
    "print(np.argmax(labels[9:9+9], axis=1).reshape(3,3))"
   ]
  },
  {
   "cell_type": "code",
   "execution_count": 62,
   "metadata": {
    "collapsed": true
   },
   "outputs": [],
   "source": [
    "p = gen_patterns(label=10, size=3, shape=0)"
   ]
  },
  {
   "cell_type": "code",
   "execution_count": 63,
   "metadata": {
    "collapsed": false
   },
   "outputs": [
    {
     "data": {
      "image/png": "[encoded data removed]",
      "text/plain": [
       "<matplotlib.figure.Figure at 0x1fb9ec75c88>"
      ]
     },
     "metadata": {},
     "output_type": "display_data"
    }
   ],
   "source": [
    "f2 = plt.figure()\n",
    "gen_img(p)\n",
    "plt.show(f2)"
   ]
  },
  {
   "cell_type": "code",
   "execution_count": 64,
   "metadata": {
    "collapsed": true
   },
   "outputs": [],
   "source": [
    "f2.savefig(\"img_examples_nonoverlapping.png\")\n",
    "f2.savefig(\"img_examples_nonoverlapping.pdf\")"
   ]
  },
  {
   "cell_type": "code",
   "execution_count": null,
   "metadata": {
    "collapsed": true
   },
   "outputs": [],
   "source": []
  }
 ],
 "metadata": {
  "kernelspec": {
   "display_name": "Python 3",
   "language": "python",
   "name": "python3"
  },
  "language_info": {
   "codemirror_mode": {
    "name": "ipython",
    "version": 3
   },
   "file_extension": ".py",
   "mimetype": "text/x-python",
   "name": "python",
   "nbconvert_exporter": "python",
   "pygments_lexer": "ipython3",
   "version": "3.6.0"
  }
 },
 "nbformat": 4,
 "nbformat_minor": 2
}
