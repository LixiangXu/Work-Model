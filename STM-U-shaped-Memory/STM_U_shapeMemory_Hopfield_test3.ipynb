{
 "cells": [
  {
   "cell_type": "code",
   "execution_count": 1,
   "metadata": {
    "collapsed": true
   },
   "outputs": [],
   "source": [
    "from matplotlib import pyplot as plt\n",
    "import numpy as np\n",
    "import random"
   ]
  },
  {
   "cell_type": "code",
   "execution_count": 13,
   "metadata": {
    "collapsed": true
   },
   "outputs": [],
   "source": [
    "num_size = 1000\n",
    "shape = [num_size, num_size]\n",
    "N_patterns = 20 # number of pattern in one sequence\n",
    "N_trial = 10 # number of trials\n",
    "dt = 1\n",
    "f = 0.5"
   ]
  },
  {
   "cell_type": "code",
   "execution_count": 19,
   "metadata": {
    "collapsed": true
   },
   "outputs": [],
   "source": [
    "alpha = 0.8 #saturation level\n",
    "c = 1\n",
    "g = 0.25\n",
    "C1 = c\n",
    "C2 = 2*c\n",
    "C3 = 4*c\n",
    "g12 = 0.8#2*g\n",
    "g23 = 0.4#g\n",
    "gk = 0.1#eps\n",
    "g0 = 1#4*g#eta"
   ]
  },
  {
   "cell_type": "code",
   "execution_count": 20,
   "metadata": {},
   "outputs": [
    {
     "data": {
      "image/png": "[encoded data removed]",
      "text/plain": [
       "<matplotlib.figure.Figure at 0x1ed4d1782b0>"
      ]
     },
     "metadata": {},
     "output_type": "display_data"
    }
   ],
   "source": [
    "dt = 1\n",
    "epochs = 10\n",
    "Errs = np.zeros(N_patterns)\n",
    "for n_trial in range(N_trial):\n",
    "    \n",
    "    Patterns = np.random.randint(0,2,size=(N_patterns, num_size))\n",
    "    W1 = np.zeros(shape=shape)\n",
    "    dW1 = np.zeros_like(W1)\n",
    "    W2 = np.zeros(shape=shape)\n",
    "    dW2 = np.zeros_like(W2)\n",
    "    W3 = np.zeros(shape=shape)\n",
    "    dW3 = np.zeros_like(W3)\n",
    "    W_new = np.zeros(shape=shape)\n",
    "    diag = np.diag_indices(num_size)\n",
    "    for n in range(N_patterns):\n",
    "        pattern = np.asarray(Patterns[n]).reshape(1,num_size)\n",
    "        W_new = (pattern-f).T.dot(pattern-f)*(1 - alpha*np.abs(W1))/f/(1-f)\n",
    "        W1 = W1 +  g0 * W_new\n",
    "        for ts in range(int(1/dt)):\n",
    "            W1 = W1 + (dt/C1) * (g12 * (W2 - W1))\n",
    "            W2 = W2 + (dt/C2) * (g12 * (W1 - W2) + g23 * (W3 - W2))\n",
    "            W3 = W3 + (dt/C3) * (g23 * (W2 - W3) - gk * W3)\n",
    "            \n",
    "        W1 = np.clip(W1, -1, 1)\n",
    "        W2 = np.clip(W2, -1, 1)\n",
    "        W3 = np.clip(W3, -1, 1)\n",
    "        W1[diag] = 0\n",
    "        W2[diag] = 0\n",
    "        W3[diag] = 0\n",
    "            \n",
    "\n",
    "    Patterns_pred = Patterns\n",
    "    for epoch in range(epochs):\n",
    "        Patterns_pred = Patterns_pred.dot(W1)\n",
    "        Patterns_pred = np.heaviside(Patterns_pred, 0)\n",
    "    err = 1 - np.sum((np.abs(Patterns_pred - Patterns)), axis = 1)/num_size\n",
    "    Errs = Errs + err\n",
    "\n",
    "f1 = plt.figure()\n",
    "plt.plot(Errs/N_trial, marker = 'o')\n",
    "plt.plot(0.9*np.ones(N_patterns), '--')\n",
    "plt.xlim([0, N_patterns])\n",
    "plt.ylim([0,1.1])\n",
    "plt.ylabel(\"Accuracy\")\n",
    "plt.xlabel(\"Position\")\n",
    "plt.grid()\n",
    "plt.show(f1)"
   ]
  },
  {
   "cell_type": "code",
   "execution_count": null,
   "metadata": {
    "collapsed": true
   },
   "outputs": [],
   "source": []
  }
 ],
 "metadata": {
  "kernelspec": {
   "display_name": "Python [default]",
   "language": "python",
   "name": "python3"
  },
  "language_info": {
   "codemirror_mode": {
    "name": "ipython",
    "version": 3
   },
   "file_extension": ".py",
   "mimetype": "text/x-python",
   "name": "python",
   "nbconvert_exporter": "python",
   "pygments_lexer": "ipython3",
   "version": "3.6.3"
  }
 },
 "nbformat": 4,
 "nbformat_minor": 2
}
