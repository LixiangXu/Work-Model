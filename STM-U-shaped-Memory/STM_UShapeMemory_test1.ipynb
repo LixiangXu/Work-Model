{
 "cells": [
  {
   "cell_type": "markdown",
   "metadata": {},
   "source": [
    "Try to memory a few number patterns with Hopfield model"
   ]
  },
  {
   "cell_type": "code",
   "execution_count": 1,
   "metadata": {
    "collapsed": true,
    "scrolled": true
   },
   "outputs": [],
   "source": [
    "from matplotlib import pyplot as plt\n",
    "import numpy as np\n",
    "import random"
   ]
  },
  {
   "cell_type": "code",
   "execution_count": 3,
   "metadata": {
    "collapsed": true
   },
   "outputs": [],
   "source": [
    "num_size = 20\n",
    "shape = [num_size, num_size]\n",
    "intf_lvl = 0.01 #interference level\n",
    "sat = num_size #saturation level\n",
    "decay_rate = 0.01 # decay_rate\n",
    "N_patterns = 5 # number of pattern in one sequence\n",
    "N_trial = 100 # number of trials\n",
    "dt = 1"
   ]
  },
  {
   "cell_type": "code",
   "execution_count": 4,
   "metadata": {
    "collapsed": true
   },
   "outputs": [],
   "source": [
    "def int2pattern(index):\n",
    "    return [int(x) for x in bin(index).lstrip('0b').zfill(num_size+2)[2:]]\n",
    "def pattern2int(pattern):\n",
    "    return int(\"\".join(str(x) for x in pattern[0]),2)"
   ]
  },
  {
   "cell_type": "code",
   "execution_count": 5,
   "metadata": {
    "collapsed": true
   },
   "outputs": [],
   "source": [
    "# generate one pattern, one number, [0,0,...,1,0,...0]\n",
    "def gen_one_pattern():\n",
    "    index = np.random.randint(np.power(2,num_size))\n",
    "    # pattern = np.zeros(num_size)\n",
    "    # pattern[index] = 1\n",
    "    pattern = int2pattern(index)\n",
    "    return pattern, index"
   ]
  },
  {
   "cell_type": "markdown",
   "metadata": {},
   "source": [
    "http://wikiofscience.wikidot.com/science:short-term-memory#toc6\n",
    "\n",
    "Decay theory: depending on the length of interval\n",
    "\n",
    "o After 3 seconds = 80%\n",
    "\n",
    "o After 6 seconds = 50%\n",
    "\n",
    "o After 18 seconds = less than 10%\n",
    "\n",
    "Interferency theory: determined by the number of interfering items\n",
    "\n",
    "\n",
    "https://www.nature.com/articles/icb199857.pdf\n",
    "\n",
    "Saturation: the proportion of opened channels is determined by the kinetic properties of the receptor-channel complex."
   ]
  },
  {
   "cell_type": "code",
   "execution_count": 6,
   "metadata": {
    "collapsed": true
   },
   "outputs": [],
   "source": [
    "# time decay\n",
    "# decay_rate = 0.01 # decay_rate\n",
    "def decay(W, num_pattern, ifdec = True):\n",
    "    t = num_pattern * dt\n",
    "    if ifdec == False:\n",
    "        return W\n",
    "    #dec = np.sign(np.random.binomial(t, 1-decay_rate, size = shape)) # time decay results to errors\n",
    "    #W = W * dec\n",
    "    for ii in range(shape[0]):\n",
    "        for jj in range(shape[1]):\n",
    "            if np.random.rand(1)<(decay_rate*t):\n",
    "                W[ii,jj] = 0 #if W[ii,jj]>0.35*num_pattern else 0.7*num_pattern\n",
    "    return W"
   ]
  },
  {
   "cell_type": "code",
   "execution_count": 7,
   "metadata": {
    "collapsed": true
   },
   "outputs": [],
   "source": [
    "# interference W\n",
    "# intf_lvl = 0.01\n",
    "def interference(W, num_pattern, ifint = True):\n",
    "    if ifint == False:\n",
    "        return W\n",
    "    #intf = np.sign(np.random.binomial(num_pattern, 1-intf_lvl, size = shape)) # sequence interferency results to errors\n",
    "    #W = W * intf\n",
    "    for ii in range(shape[0]):\n",
    "        for jj in range(shape[1]):\n",
    "            if np.random.rand(1)<(intf_lvl*num_pattern):\n",
    "                W[ii,jj] = 0 #if W[ii,jj]>0.35*num_pattern else 0.7*num_pattern\n",
    "    return W"
   ]
  },
  {
   "cell_type": "code",
   "execution_count": 8,
   "metadata": {
    "collapsed": true
   },
   "outputs": [],
   "source": [
    "# Rehearsal effect W\n",
    "# eta_rehear = 0.1\n",
    "def rehearsal(W, Patterns, ifreh = True):\n",
    "    if ifreh == False or len(Patterns) <= 0:\n",
    "        return W\n",
    "    else:\n",
    "        Patterns = np.asarray(Patterns).reshape(len(Patterns), num_size)\n",
    "        Patterns_rehearsal = Patterns.dot(W)\n",
    "        # Patterns_rehearsal = Patterns\n",
    "        # W = W + (Patterns_rehearsal.T).dot(Patterns_rehearsal)*eta_rehear\n",
    "        W = W + (Patterns_rehearsal.T).dot(Patterns)*eta_rehear\n",
    "        return W#/(1+eta_rehear)**2"
   ]
  },
  {
   "cell_type": "code",
   "execution_count": null,
   "metadata": {
    "collapsed": true
   },
   "outputs": [],
   "source": []
  },
  {
   "cell_type": "code",
   "execution_count": 9,
   "metadata": {
    "collapsed": true
   },
   "outputs": [],
   "source": [
    "# updata W bc saturation and add pattern\n",
    "#sat = 1\n",
    "def update_W(W, Delta_W, pattern, ifsat = True):\n",
    "    if ifsat == False:\n",
    "        temp_activ = np.ones(shape)\n",
    "    else:\n",
    "        temp_activ = np.ones(shape)*sat-Delta_W # saturation level - last increment = ratio of activating channel\n",
    "        temp_activ = (temp_activ + np.abs(temp_activ))/2\n",
    "    pattern = np.asarray([pattern])\n",
    "    Delta_W = temp_activ/sat * (pattern.T).dot(pattern)\n",
    "    W = W + Delta_W\n",
    "    return W, Delta_W"
   ]
  },
  {
   "cell_type": "code",
   "execution_count": 14,
   "metadata": {
    "collapsed": true
   },
   "outputs": [],
   "source": [
    "# accuracy\n",
    "def accuracy(W, Patterns):\n",
    "    acc = np.zeros(len(Patterns))\n",
    "    Patterns_pre =[]\n",
    "    index_pre = []\n",
    "    for kk in range(len(Patterns)):\n",
    "        pattern = Patterns[kk]\n",
    "        pattern = np.asarray([pattern])\n",
    "        for _ in range(10):\n",
    "            pattern_temp = np.heaviside((pattern).dot(W.T),0.5)\n",
    "            pattern = pattern_temp\n",
    "        if np.abs(pattern_temp[0].max()) >0:\n",
    "            pattern_temp[0] = pattern_temp[0]/np.abs(pattern_temp[0].max())\n",
    "        pattern_pre = np.asarray([[1 if x> 0.5 else 0 for x in pattern_temp[0]]])\n",
    "        Patterns_pre.append(pattern_pre)\n",
    "        index_pre.append(pattern2int(pattern_pre))\n",
    "        #if pattern2int(pattern_pre) == pattern2int(pattern):\n",
    "        #    acc[kk] = 1\n",
    "        acc[kk] =1 - np.sum(np.abs(np.asarray(pattern_pre)-np.asarray(pattern))) /num_size\n",
    "    return acc, Patterns_pre, index_pre"
   ]
  },
  {
   "cell_type": "code",
   "execution_count": null,
   "metadata": {
    "collapsed": true
   },
   "outputs": [],
   "source": []
  },
  {
   "cell_type": "code",
   "execution_count": 15,
   "metadata": {
    "collapsed": true
   },
   "outputs": [],
   "source": [
    "#N_patterns = 6 # number of pattern in one sequence\n",
    "def STM_trial(ifdec=True, ifint=True, ifsat=True, ifreh=True):\n",
    "    Patterns = []\n",
    "    Indexs = []\n",
    "    Delta_W = np.zeros(shape=shape)\n",
    "    W = np.zeros(shape=shape)\n",
    "    for kk in range(N_patterns):\n",
    "        pattern, index = gen_one_pattern() # generate new pattern\n",
    "        \n",
    "        \n",
    "        W = rehearsal(W, Patterns, ifreh) # rehearsal effect, repeat the memorized information\n",
    "        W = decay(W, len(Patterns), ifdec) # time decay, error occurs\n",
    "        W = interference(W, len(Patterns), ifint) # interference, error occurs\n",
    "        \n",
    "        \n",
    "        W, Delta_W = update_W(W, Delta_W, pattern, ifsat) # memory new pattern, update W, considering saturation\n",
    "        Patterns.append(pattern)\n",
    "        Indexs.append(index)\n",
    "    #print(W.mean())\n",
    "    W = W/num_size\n",
    "    acc, Patterns_pre, index_pre = accuracy(W, Patterns)\n",
    "    return Patterns, Indexs, acc, Patterns_pre, index_pre"
   ]
  },
  {
   "cell_type": "code",
   "execution_count": 12,
   "metadata": {
    "collapsed": true
   },
   "outputs": [],
   "source": [
    "num_size = 20\n",
    "shape = [num_size, num_size]\n",
    "intf_lvl = 0.01 # interference level\n",
    "sat = 1 # saturation level\n",
    "decay_rate = 0.01 # decay_rate\n",
    "eta_rehear = 1e-2 # rehearsal effeciency\n",
    "N_patterns = 8 # number of pattern in one sequence\n",
    "N_trial = 1000 # number of trials\n",
    "dt = 1"
   ]
  },
  {
   "cell_type": "code",
   "execution_count": 12,
   "metadata": {
    "scrolled": true
   },
   "outputs": [
    {
     "data": {
      "image/png": "[encoded data removed]",
      "text/plain": [
       "<matplotlib.figure.Figure at 0x2b745d8ec50>"
      ]
     },
     "metadata": {},
     "output_type": "display_data"
    }
   ],
   "source": [
    "#N_trial = 1000 # number of trials\n",
    "accs = np.zeros(N_patterns)\n",
    "for _ in range(N_trial):\n",
    "    Patterns, Indexs, acc, Patterns_pre, index_pre = STM_trial(ifdec=True, ifint=True, ifsat=False, ifreh=False)\n",
    "    accs = accs + acc\n",
    "\n",
    "f1 = plt.figure()\n",
    "plt.plot(accs/N_trial, marker = 'o')\n",
    "plt.xlim([0, N_patterns-1])\n",
    "plt.ylabel(\"Accuracy\")\n",
    "plt.xlabel(\"Position\")\n",
    "plt.show(f1)"
   ]
  },
  {
   "cell_type": "markdown",
   "metadata": {},
   "source": [
    "$\\uparrow$ only consider about the interference and decay effect"
   ]
  },
  {
   "cell_type": "code",
   "execution_count": 16,
   "metadata": {
    "scrolled": true
   },
   "outputs": [
    {
     "data": {
      "image/png": "[encoded data removed]",
      "text/plain": [
       "<matplotlib.figure.Figure at 0x122ec3ac6d8>"
      ]
     },
     "metadata": {},
     "output_type": "display_data"
    }
   ],
   "source": [
    "#N_trial = 1000 # number of trials\n",
    "accs = np.zeros(N_patterns)\n",
    "for _ in range(N_trial):\n",
    "    Patterns, Indexs, acc, Patterns_pre, index_pre = STM_trial(ifdec=True, ifint=True, ifsat=True, ifreh=False)\n",
    "    accs = accs + acc\n",
    "\n",
    "f1 = plt.figure()\n",
    "plt.plot(accs/N_trial, marker = 'o')\n",
    "plt.xlim([0, N_patterns-1])\n",
    "plt.ylabel(\"Accuracy\")\n",
    "plt.xlabel(\"Position\")\n",
    "plt.show(f1)"
   ]
  },
  {
   "cell_type": "markdown",
   "metadata": {},
   "source": [
    "$\\uparrow$ consider about the interference, decay and also saturation effect"
   ]
  },
  {
   "cell_type": "code",
   "execution_count": 14,
   "metadata": {
    "scrolled": true
   },
   "outputs": [
    {
     "data": {
      "image/png": "[encoded data removed]",
      "text/plain": [
       "<matplotlib.figure.Figure at 0x2b745d8e320>"
      ]
     },
     "metadata": {},
     "output_type": "display_data"
    }
   ],
   "source": [
    "#N_trial = 1000 # number of trials\n",
    "accs = np.zeros(N_patterns)\n",
    "for _ in range(N_trial):\n",
    "    Patterns, Indexs, acc, Patterns_pre, index_pre = STM_trial(ifdec=True, ifint=True, ifsat=True, ifreh=True)\n",
    "    accs = accs + acc\n",
    "\n",
    "f1 = plt.figure()\n",
    "plt.plot(accs/N_trial, marker = 'o')\n",
    "plt.xlim([0, N_patterns-1])\n",
    "plt.ylabel(\"Accuracy\")\n",
    "plt.xlabel(\"Position\")\n",
    "plt.show(f1)"
   ]
  },
  {
   "cell_type": "markdown",
   "metadata": {},
   "source": [
    "$\\uparrow$ consider about the interference, decay, saturation and rehersal effect."
   ]
  },
  {
   "cell_type": "code",
   "execution_count": null,
   "metadata": {
    "collapsed": true
   },
   "outputs": [],
   "source": []
  }
 ],
 "metadata": {
  "kernelspec": {
   "display_name": "Python [default]",
   "language": "python",
   "name": "python3"
  },
  "language_info": {
   "codemirror_mode": {
    "name": "ipython",
    "version": 3
   },
   "file_extension": ".py",
   "mimetype": "text/x-python",
   "name": "python",
   "nbconvert_exporter": "python",
   "pygments_lexer": "ipython3",
   "version": "3.6.3"
  }
 },
 "nbformat": 4,
 "nbformat_minor": 2
}
